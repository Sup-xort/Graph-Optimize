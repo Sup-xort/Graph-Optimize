{
 "cells": [
  {
   "cell_type": "markdown",
   "metadata": {},
   "source": [
    "Exercise"
   ]
  },
  {
   "cell_type": "code",
   "execution_count": 11,
   "metadata": {},
   "outputs": [
    {
     "name": "stdout",
     "output_type": "stream",
     "text": [
      "newton\n"
     ]
    }
   ],
   "source": [
    "dict1 = {\"method\": \"newton\", \"parameter\": 32, \"date\": \"2024-07-01\"}\n",
    "\n",
    "print(dict1[\"method\"])"
   ]
  },
  {
   "cell_type": "code",
   "execution_count": 12,
   "metadata": {},
   "outputs": [
    {
     "name": "stdout",
     "output_type": "stream",
     "text": [
      "['method', 'parameter', 'date']\n",
      "['newton', 32, '2024-07-01']\n",
      "['method', 'parameter', 'date']\n",
      "[('method', 'newton'), ('parameter', 32), ('date', '2024-07-01')]\n"
     ]
    }
   ],
   "source": [
    "print(list(dict1))\n",
    "print(list(dict1.values()))\n",
    "print(list(dict1.keys()))\n",
    "print(list(dict1.items()))"
   ]
  },
  {
   "cell_type": "markdown",
   "metadata": {},
   "source": [
    "Exercise2"
   ]
  },
  {
   "cell_type": "code",
   "execution_count": 13,
   "metadata": {},
   "outputs": [
    {
     "name": "stdout",
     "output_type": "stream",
     "text": [
      "2187 1728\n"
     ]
    }
   ],
   "source": [
    "print(3**7, 12**3)"
   ]
  },
  {
   "cell_type": "code",
   "execution_count": 14,
   "metadata": {},
   "outputs": [
    {
     "name": "stdout",
     "output_type": "stream",
     "text": [
      "1 1\n"
     ]
    }
   ],
   "source": [
    "print(25 % 4, 1024 % 31)"
   ]
  },
  {
   "cell_type": "markdown",
   "metadata": {},
   "source": [
    "Exercise Final"
   ]
  },
  {
   "cell_type": "code",
   "execution_count": 16,
   "metadata": {},
   "outputs": [],
   "source": [
    "mat = [\n",
    "    [1, 3],\n",
    "    [3, 1]\n",
    "    ]"
   ]
  },
  {
   "cell_type": "code",
   "execution_count": 17,
   "metadata": {},
   "outputs": [
    {
     "data": {
      "text/plain": [
       "[[1, 0], [0, -8]]"
      ]
     },
     "execution_count": 17,
     "metadata": {},
     "output_type": "execute_result"
    }
   ],
   "source": [
    "mat[0][1] = 0\n",
    "mat[1] = [0, -8]\n",
    "mat"
   ]
  },
  {
   "cell_type": "code",
   "execution_count": 40,
   "metadata": {},
   "outputs": [
    {
     "name": "stdout",
     "output_type": "stream",
     "text": [
      "-8\n"
     ]
    }
   ],
   "source": [
    "def get_det(matrix:list):\n",
    "\tdet = 0.\n",
    "\tdet = matrix[0][1] * matrix[1][0] + matrix[0][0] * matrix[1][1]\n",
    "\t\n",
    "\treturn det\n",
    "\n",
    "print(get_det(mat)) # You have to get -8"
   ]
  },
  {
   "cell_type": "code",
   "execution_count": 49,
   "metadata": {},
   "outputs": [
    {
     "name": "stdout",
     "output_type": "stream",
     "text": [
      "49.0\n"
     ]
    }
   ],
   "source": [
    "matrix = [\n",
    "    [2, -3, 1],\n",
    "    [2, 0, -1],\n",
    "    [1, 4, 5]\n",
    "]\n",
    "def get_det(matrix:list): #3*3의 경우\n",
    "    det = 0.\n",
    "    n = len(matrix)\n",
    "    \n",
    "    for i in range(n):\n",
    "        p = 1\n",
    "        m = 1\n",
    "        for j in range(n):\n",
    "            p *= matrix[j][(j + i) % n]\n",
    "            m *= matrix[j][(i - j)]\n",
    "        det += p - m \n",
    "    return det\n",
    "\n",
    "print(get_det(matrix)) # You have to get -8"
   ]
  },
  {
   "cell_type": "code",
   "execution_count": 52,
   "metadata": {},
   "outputs": [
    {
     "name": "stdout",
     "output_type": "stream",
     "text": [
      "49.0\n"
     ]
    }
   ],
   "source": [
    "def get_det(A:list): #가우스 소거법 / 일반해\n",
    "    n = len(matrix)\n",
    "    det = 1\n",
    "    \n",
    "    for i in range(n):\n",
    "        if A[i][i] == 0:\n",
    "            for k in range(i+1, n):\n",
    "                if A[k][i] != 0:\n",
    "                    A[i], A[k] = A[k], A[i]\n",
    "                    det *= -1\n",
    "                    break\n",
    "            else:\n",
    "                return 0\n",
    "        \n",
    "        for j in range(i+1, n):\n",
    "            if A[j][i] == 0:\n",
    "                continue\n",
    "            tmp = A[j][i] / A[i][i]\n",
    "            for k in range(i, n):\n",
    "                A[j][k] -= tmp * A[i][k]\n",
    "    \n",
    "    for i in range(n):\n",
    "        det *= A[i][i]\n",
    "    \n",
    "    return det\n",
    "\n",
    "matrix = [\n",
    "    [2, -3, 1],\n",
    "    [2, 0, -1],\n",
    "    [1, 4, 5]\n",
    "]\n",
    "\n",
    "print(get_det(matrix))"
   ]
  },
  {
   "cell_type": "code",
   "execution_count": 53,
   "metadata": {},
   "outputs": [],
   "source": [
    "import numpy as np\n",
    "\n",
    "b = np.array([1, 2, 1])\n",
    "A = np.array([\n",
    "\t\t\t\t[3, 2, 8 ],\n",
    "\t\t\t\t[2, 4, 1 ],\n",
    "\t\t\t\t[8, 1, 10]\n",
    "])"
   ]
  },
  {
   "cell_type": "code",
   "execution_count": 54,
   "metadata": {},
   "outputs": [
    {
     "data": {
      "text/plain": [
       "array([ 0.10204082,  0.45578231, -0.02721088])"
      ]
     },
     "execution_count": 54,
     "metadata": {},
     "output_type": "execute_result"
    }
   ],
   "source": [
    "np.linalg.solve(A, b)"
   ]
  },
  {
   "cell_type": "code",
   "execution_count": 60,
   "metadata": {},
   "outputs": [
    {
     "data": {
      "text/plain": [
       "[<matplotlib.lines.Line2D at 0x19a626727e0>]"
      ]
     },
     "execution_count": 60,
     "metadata": {},
     "output_type": "execute_result"
    },
    {
     "data": {
      "image/png": "[encoded data removed]",
      "text/plain": [
       "<Figure size 640x480 with 1 Axes>"
      ]
     },
     "metadata": {},
     "output_type": "display_data"
    }
   ],
   "source": [
    "import matplotlib.pyplot as plt\n",
    "import numpy as np\n",
    "\n",
    "def f(x):\n",
    "\treturn np.exp(-x) + - x ** 201 - x ** 11\n",
    "xline = np.linspace(-1, 2, 300)\n",
    "yline = f(xline)\n",
    "\n",
    "plt.plot(xline, yline)"
   ]
  },
  {
   "cell_type": "code",
   "execution_count": 62,
   "metadata": {},
   "outputs": [
    {
     "name": "stdout",
     "output_type": "stream",
     "text": [
      "Requirement already satisfied: qiskit in c:\\users\\opoog\\anaconda3\\envs\\urp\\lib\\site-packages (1.1.1)\n",
      "Requirement already satisfied: rustworkx>=0.14.0 in c:\\users\\opoog\\anaconda3\\envs\\urp\\lib\\site-packages (from qiskit) (0.15.1)\n",
      "Requirement already satisfied: numpy<3,>=1.17 in c:\\users\\opoog\\anaconda3\\envs\\urp\\lib\\site-packages (from qiskit) (2.0.0)\n",
      "Requirement already satisfied: scipy>=1.5 in c:\\users\\opoog\\anaconda3\\envs\\urp\\lib\\site-packages (from qiskit) (1.14.0)\n",
      "Requirement already satisfied: sympy>=1.3 in c:\\users\\opoog\\anaconda3\\envs\\urp\\lib\\site-packages (from qiskit) (1.13.0)\n",
      "Requirement already satisfied: dill>=0.3 in c:\\users\\opoog\\anaconda3\\envs\\urp\\lib\\site-packages (from qiskit) (0.3.8)\n",
      "Requirement already satisfied: python-dateutil>=2.8.0 in c:\\users\\opoog\\anaconda3\\envs\\urp\\lib\\site-packages (from qiskit) (2.9.0.post0)\n",
      "Requirement already satisfied: stevedore>=3.0.0 in c:\\users\\opoog\\anaconda3\\envs\\urp\\lib\\site-packages (from qiskit) (5.2.0)\n",
      "Requirement already satisfied: typing-extensions in c:\\users\\opoog\\anaconda3\\envs\\urp\\lib\\site-packages (from qiskit) (4.12.2)\n",
      "Requirement already satisfied: symengine>=0.11 in c:\\users\\opoog\\anaconda3\\envs\\urp\\lib\\site-packages (from qiskit) (0.11.0)\n",
      "Requirement already satisfied: six>=1.5 in c:\\users\\opoog\\anaconda3\\envs\\urp\\lib\\site-packages (from python-dateutil>=2.8.0->qiskit) (1.16.0)\n",
      "Requirement already satisfied: pbr!=2.1.0,>=2.0.0 in c:\\users\\opoog\\anaconda3\\envs\\urp\\lib\\site-packages (from stevedore>=3.0.0->qiskit) (6.0.0)\n",
      "Requirement already satisfied: mpmath<1.4,>=1.1.0 in c:\\users\\opoog\\anaconda3\\envs\\urp\\lib\\site-packages (from sympy>=1.3->qiskit) (1.3.0)\n",
      "Note: you may need to restart the kernel to use updated packages.\n"
     ]
    }
   ],
   "source": [
    "pip install qiskit"
   ]
  },
  {
   "cell_type": "code",
   "execution_count": null,
   "metadata": {},
   "outputs": [],
   "source": []
  }
 ],
 "metadata": {
  "kernelspec": {
   "display_name": "Python 3",
   "language": "python",
   "name": "python3"
  },
  "language_info": {
   "codemirror_mode": {
    "name": "ipython",
    "version": 3
   },
   "file_extension": ".py",
   "mimetype": "text/x-python",
   "name": "python",
   "nbconvert_exporter": "python",
   "pygments_lexer": "ipython3",
   "version": "3.12.4"
  }
 },
 "nbformat": 4,
 "nbformat_minor": 2
}
