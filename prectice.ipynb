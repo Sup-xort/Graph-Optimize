{
 "cells": [
  {
   "cell_type": "markdown",
   "metadata": {},
   "source": [
    "# 그래프 설정"
   ]
  },
  {
   "cell_type": "code",
   "execution_count": 20,
   "metadata": {},
   "outputs": [],
   "source": [
    "n = 4\n",
    "edge = [\n",
    "    (0, 1, 0),\n",
    "    (0, 2, 0),\n",
    "    #(0, 3, 0),\n",
    "    (1, 2, 0),\n",
    "    (1, 3, 0)\n",
    "]"
   ]
  },
  {
   "cell_type": "code",
   "execution_count": 21,
   "metadata": {},
   "outputs": [
    {
     "data": {
      "image/png": "[encoded data removed]",
      "text/plain": [
       "<Figure size 640x480 with 1 Axes>"
      ]
     },
     "metadata": {},
     "output_type": "display_data"
    }
   ],
   "source": [
    "import matplotlib.pyplot as plt\n",
    "import rustworkx as rx\n",
    "from rustworkx.visualization import mpl_draw as draw_graph\n",
    "\n",
    "pos = {\n",
    "    0: (0, 1),\n",
    "    1: (1, 1),\n",
    "    2: (0, 0),\n",
    "    3: (1, 0)\n",
    "}\n",
    "\n",
    "graph = rx.PyGraph()\n",
    "graph.add_nodes_from(range(0, n))\n",
    "graph.add_edges_from(edge)\n",
    "draw_graph(graph, with_labels=True, pos=pos, node_size=2000, font_size=19, node_color=\"white\")\n",
    "\n"
   ]
  },
  {
   "cell_type": "markdown",
   "metadata": {},
   "source": [
    "# 이론적 배경"
   ]
  },
  {
   "cell_type": "markdown",
   "metadata": {},
   "source": [
    "#### $ \\rm Adjacency~matrix $\n",
    "위 상황에서 인접행렬은 다음과 같다: \n",
    "$$\n",
    "\\begin{bmatrix} \n",
    "   0 & 1 & 1 & 1 \\\\\n",
    "   1 & 0 & 1 & 1 \\\\\n",
    "   0 & 1 & 0 & 0 \\\\\n",
    "   1 & 1 & 0 & 0 \\\\\n",
    "\\end{bmatrix}  \n",
    "$$ \n"
   ]
  },
  {
   "cell_type": "markdown",
   "metadata": {},
   "source": [
    "#### $ \\rm Hemiltonian $\n",
    "\n",
    "$ |0111 \\rangle \\rm{인~경우의 ~weight}$:\n",
    "\n",
    "$$\n",
    "\\frac{1}{2}\n",
    "\\left( \n",
    "\\begin{bmatrix} \n",
    "   0 & 1 & 1 & 1\n",
    "\\end{bmatrix}  \n",
    "\\begin{bmatrix} \n",
    "   0 & 1 & 1 & 1 \\\\\n",
    "   1 & 0 & 1 & 1 \\\\\n",
    "   1 & 1 & 0 & 0 \\\\\n",
    "   1 & 1 & 0 & 0 \\\\\n",
    "\\end{bmatrix} \n",
    "\\begin{bmatrix} \n",
    "    0 \\\\\n",
    "    1 \\\\\n",
    "    1 \\\\\n",
    "    1 \\\\\n",
    "\\end{bmatrix} \n",
    "\\right) = 2\n",
    "$$\n",
    "\n",
    "$ \\rm complement~graph~of~G의~Adjacency~mat을~이용 \\Rightarrow clique일~수록~E~low $"
   ]
  },
  {
   "cell_type": "code",
   "execution_count": 28,
   "metadata": {},
   "outputs": [],
   "source": [
    "import numpy as np"
   ]
  },
  {
   "cell_type": "code",
   "execution_count": 29,
   "metadata": {},
   "outputs": [
    {
     "data": {
      "text/plain": [
       "array([[0., 0., 0., 1.],\n",
       "       [0., 0., 0., 0.],\n",
       "       [0., 0., 0., 1.],\n",
       "       [1., 0., 1., 0.]])"
      ]
     },
     "execution_count": 29,
     "metadata": {},
     "output_type": "execute_result"
    }
   ],
   "source": [
    "H = rx.adjacency_matrix(graph)\n",
    "H = (1 - H) - np.eye(H.shape[0]) #Complement graph\n",
    "H"
   ]
  },
  {
   "cell_type": "code",
   "execution_count": 30,
   "metadata": {},
   "outputs": [
    {
     "data": {
      "text/plain": [
       "array([[-1.,  0.,  0.,  8.],\n",
       "       [ 0., -1.,  0.,  0.],\n",
       "       [ 0.,  0., -1.,  8.],\n",
       "       [ 8.,  0.,  8., -1.]])"
      ]
     },
     "execution_count": 30,
     "metadata": {},
     "output_type": "execute_result"
    }
   ],
   "source": [
    "H = (n + n) * H - np.eye(H.shape[0])\n",
    "H"
   ]
  },
  {
   "cell_type": "markdown",
   "metadata": {},
   "source": [
    "따단!"
   ]
  },
  {
   "cell_type": "code",
   "execution_count": 31,
   "metadata": {},
   "outputs": [],
   "source": [
    "from scipy.linalg import eig, eigvals"
   ]
  },
  {
   "cell_type": "code",
   "execution_count": 32,
   "metadata": {},
   "outputs": [
    {
     "data": {
      "text/plain": [
       "array([-12.3137085+0.j,  -1.       +0.j,  10.3137085+0.j,  -1.       +0.j])"
      ]
     },
     "execution_count": 32,
     "metadata": {},
     "output_type": "execute_result"
    }
   ],
   "source": [
    "eigvals(H)"
   ]
  },
  {
   "cell_type": "code",
   "execution_count": 33,
   "metadata": {},
   "outputs": [
    {
     "data": {
      "text/plain": [
       "<Axes: >"
      ]
     },
     "execution_count": 33,
     "metadata": {},
     "output_type": "execute_result"
    },
    {
     "data": {
      "image/png": "[encoded data removed]",
      "text/plain": [
       "<Figure size 640x480 with 2 Axes>"
      ]
     },
     "metadata": {},
     "output_type": "display_data"
    }
   ],
   "source": [
    "import seaborn as sns\n",
    "\n",
    "sns.heatmap(H)"
   ]
  },
  {
   "cell_type": "code",
   "execution_count": null,
   "metadata": {},
   "outputs": [],
   "source": []
  }
 ],
 "metadata": {
  "kernelspec": {
   "display_name": "Python 3",
   "language": "python",
   "name": "python3"
  },
  "language_info": {
   "codemirror_mode": {
    "name": "ipython",
    "version": 3
   },
   "file_extension": ".py",
   "mimetype": "text/x-python",
   "name": "python",
   "nbconvert_exporter": "python",
   "pygments_lexer": "ipython3",
   "version": "3.12.4"
  }
 },
 "nbformat": 4,
 "nbformat_minor": 2
}
